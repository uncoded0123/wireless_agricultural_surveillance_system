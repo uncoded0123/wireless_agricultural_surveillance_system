{
 "cells": [
  {
   "cell_type": "code",
   "execution_count": null,
   "id": "37627642-582b-48eb-9b2d-e78d5c8e25c4",
   "metadata": {},
   "outputs": [
    {
     "name": "stdout",
     "output_type": "stream",
     "text": [
      "Array min: 0, max: 255, mean: 126.82\n",
      "Saved image 1\n",
      "Array min: 0, max: 255, mean: 77.94\n",
      "Saved image 2\n",
      "Array min: 0, max: 255, mean: 77.94\n",
      "Saved image 3\n",
      "Array min: 0, max: 255, mean: 75.25\n",
      "Saved image 4\n",
      "Array min: 0, max: 255, mean: 58.48\n",
      "Saved image 5\n",
      "Array min: 0, max: 255, mean: 57.75\n",
      "Saved image 6\n",
      "Array min: 0, max: 250, mean: 124.67\n",
      "Saved image 7\n",
      "Array min: 0, max: 255, mean: 56.68\n",
      "Saved image 8\n"
     ]
    }
   ],
   "source": [
    "import serial\n",
    "import numpy as np\n",
    "from PIL import Image\n",
    "import re\n",
    "\n",
    "IMAGE_WIDTH = 80\n",
    "IMAGE_HEIGHT = 60\n",
    "\n",
    "def clean_hex_string(hex_str):\n",
    "    # Remove any non-hexadecimal characters\n",
    "    return re.sub(r'[^0-9a-fA-F]', '', hex_str)\n",
    "\n",
    "def hex_to_bytes(hex_str):\n",
    "    cleaned_hex = clean_hex_string(hex_str)\n",
    "    if len(cleaned_hex) % 2 != 0:\n",
    "        cleaned_hex = cleaned_hex[:-1]  # Ensure even length\n",
    "    return bytes.fromhex(cleaned_hex)\n",
    "\n",
    "def receive_lora_data(serial_port='/dev/ttyUSB0', baud_rate=115200):\n",
    "    ser = serial.Serial(serial_port, baud_rate, timeout=1)\n",
    "    received_data = ''\n",
    "    image_counter = 0\n",
    "\n",
    "    try:\n",
    "        while True:\n",
    "            if ser.in_waiting:\n",
    "                chunk = ser.read(ser.in_waiting).decode('ascii', errors='ignore')\n",
    "                received_data += chunk\n",
    "\n",
    "                while len(clean_hex_string(received_data)) >= IMAGE_WIDTH * IMAGE_HEIGHT * 2:\n",
    "                    # Extract and clean 4800 bytes worth of hex data\n",
    "                    hex_data = clean_hex_string(received_data)[:IMAGE_WIDTH * IMAGE_HEIGHT * 2]\n",
    "                    received_data = received_data[received_data.index(hex_data[-1]) + 1:]\n",
    "\n",
    "                    try:\n",
    "                        # Convert hex to bytes\n",
    "                        byte_data = hex_to_bytes(hex_data)\n",
    "\n",
    "                        # Convert to uint8 and reshape into 2D array\n",
    "                        image_array = np.frombuffer(byte_data, dtype=np.uint8)\n",
    "                        image_array = image_array.reshape((IMAGE_HEIGHT, IMAGE_WIDTH)).T\n",
    "\n",
    "                        print(f\"Array min: {image_array.min()}, max: {image_array.max()}, mean: {image_array.mean():.2f}\")\n",
    "\n",
    "                        # Create and save image\n",
    "                        pil_image = Image.fromarray(image_array, mode='L')\n",
    "                        image_counter += 1\n",
    "                        pil_image.save(f\"/home/cody/Desktop/img/received_image_{image_counter}.png\")\n",
    "                        print(f\"Saved image {image_counter}\")\n",
    "\n",
    "                    except Exception as e:\n",
    "                        print(f\"Error processing image: {e}\")\n",
    "                        print(f\"Problematic hex data: {hex_data[:100]}...\")  # Print first 100 chars for debugging\n",
    "\n",
    "    except KeyboardInterrupt:\n",
    "        print(\"Stopping data reception.\")\n",
    "    finally:\n",
    "        ser.close()\n",
    "\n",
    "if __name__ == \"__main__\":\n",
    "    receive_lora_data()"
   ]
  }
 ],
 "metadata": {
  "kernelspec": {
   "display_name": "Python 3 (ipykernel)",
   "language": "python",
   "name": "python3"
  },
  "language_info": {
   "codemirror_mode": {
    "name": "ipython",
    "version": 3
   },
   "file_extension": ".py",
   "mimetype": "text/x-python",
   "name": "python",
   "nbconvert_exporter": "python",
   "pygments_lexer": "ipython3",
   "version": "3.11.7"
  }
 },
 "nbformat": 4,
 "nbformat_minor": 5
}
